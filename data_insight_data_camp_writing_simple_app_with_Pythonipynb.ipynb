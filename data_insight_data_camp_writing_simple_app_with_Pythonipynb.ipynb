{
  "nbformat": 4,
  "nbformat_minor": 0,
  "metadata": {
    "colab": {
      "name": " data-insight-data-camp-writing-simple-app-with-Pythonipynb",
      "provenance": [],
      "authorship_tag": "ABX9TyMYUBkEDikc9GmSsgb7XgXT",
      "include_colab_link": true
    },
    "kernelspec": {
      "name": "python3",
      "display_name": "Python 3"
    },
    "language_info": {
      "name": "python"
    }
  },
  "cells": [
    {
      "cell_type": "markdown",
      "metadata": {
        "id": "view-in-github",
        "colab_type": "text"
      },
      "source": [
        "<a href=\"https://colab.research.google.com/github/heshanu/-AWS-Computer-Vision-Getting-Started-with-GluonCV/blob/master/data_insight_data_camp_writing_simple_app_with_Pythonipynb.ipynb\" target=\"_parent\"><img src=\"https://colab.research.google.com/assets/colab-badge.svg\" alt=\"Open In Colab\"/></a>"
      ]
    },
    {
      "cell_type": "code",
      "metadata": {
        "colab": {
          "base_uri": "https://localhost:8080/"
        },
        "id": "j1yK_gwu3dS2",
        "outputId": "7c769764-bf72-4179-e521-f5755a2e029e"
      },
      "source": [
        "c=1\n",
        "word=\"rerfef\"\n",
        "for w in word:\n",
        "  c=c+1\n",
        "\n",
        "print(c)\n",
        "\n",
        "\n",
        " \n"
      ],
      "execution_count": 2,
      "outputs": [
        {
          "output_type": "stream",
          "name": "stdout",
          "text": [
            "7\n"
          ]
        }
      ]
    },
    {
      "cell_type": "code",
      "metadata": {
        "id": "rKPUP2Aa64rE",
        "colab": {
          "base_uri": "https://localhost:8080/"
        },
        "outputId": "84f3c60e-a9ee-47eb-cc73-67c8a0c548fc"
      },
      "source": [
        "def word_count(str):\n",
        "    counts = dict()\n",
        "    words = str.split()\n",
        "\n",
        "    for word in words:\n",
        "        if word in counts:\n",
        "            counts[word] += 1\n",
        "        else:\n",
        "            counts[word] = 1\n",
        "\n",
        "    return counts\n",
        "\n",
        "print( word_count('the quick brown fox jumps over the lazy dog.'))"
      ],
      "execution_count": 1,
      "outputs": [
        {
          "output_type": "stream",
          "name": "stdout",
          "text": [
            "{'the': 2, 'quick': 1, 'brown': 1, 'fox': 1, 'jumps': 1, 'over': 1, 'lazy': 1, 'dog.': 1}\n"
          ]
        }
      ]
    },
    {
      "cell_type": "code",
      "metadata": {
        "id": "63E_aIWELgMU"
      },
      "source": [
        "##bmi calculator ##"
      ],
      "execution_count": 1,
      "outputs": []
    },
    {
      "cell_type": "code",
      "metadata": {
        "id": "SPTOX3XXqeek"
      },
      "source": [
        "def bmi_cal(): \n",
        " h=float(input(\"enter mass\"))\n",
        " w=float(input(\"enter weight\"))\n",
        "\n",
        " bmi=(w/h*h)\n",
        " return \"Your bmi is \"+str(bmi)\n"
      ],
      "execution_count": 6,
      "outputs": []
    },
    {
      "cell_type": "code",
      "metadata": {
        "colab": {
          "base_uri": "https://localhost:8080/",
          "height": 69
        },
        "id": "LkJApj-JrlJW",
        "outputId": "b7674cef-b2b7-4445-f5aa-13fe19d58254"
      },
      "source": [
        "bmi_cal()"
      ],
      "execution_count": 7,
      "outputs": [
        {
          "name": "stdout",
          "output_type": "stream",
          "text": [
            "enter mass70\n",
            "enter weight165\n"
          ]
        },
        {
          "output_type": "execute_result",
          "data": {
            "application/vnd.google.colaboratory.intrinsic+json": {
              "type": "string"
            },
            "text/plain": [
              "'Your bmi is 165.0'"
            ]
          },
          "metadata": {},
          "execution_count": 7
        }
      ]
    },
    {
      "cell_type": "code",
      "metadata": {
        "id": "EMfBdqRarokv"
      },
      "source": [
        ""
      ],
      "execution_count": null,
      "outputs": []
    }
  ]
}